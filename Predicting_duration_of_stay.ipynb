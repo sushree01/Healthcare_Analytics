{
 "cells": [
  {
   "cell_type": "code",
   "execution_count": 350,
   "id": "ef8026da",
   "metadata": {},
   "outputs": [],
   "source": [
    "import numpy as np\n",
    "import pandas as pd\n",
    "import matplotlib.pyplot as plt\n",
    "import seaborn as sns"
   ]
  },
  {
   "cell_type": "code",
   "execution_count": 351,
   "id": "30c91dde",
   "metadata": {},
   "outputs": [],
   "source": [
    "from warnings import filterwarnings\n",
    "filterwarnings('ignore')"
   ]
  },
  {
   "cell_type": "code",
   "execution_count": 352,
   "id": "a4c6fa53",
   "metadata": {},
   "outputs": [],
   "source": [
    "from sklearn.preprocessing import StandardScaler,LabelEncoder\n",
    "from sklearn.model_selection import train_test_split"
   ]
  },
  {
   "cell_type": "code",
   "execution_count": 353,
   "id": "a437c428",
   "metadata": {},
   "outputs": [],
   "source": [
    "from sklearn.linear_model import LogisticRegression\n",
    "from sklearn.tree import DecisionTreeClassifier\n",
    "from sklearn.ensemble import RandomForestClassifier\n",
    "from sklearn.naive_bayes import GaussianNB"
   ]
  },
  {
   "cell_type": "code",
   "execution_count": 354,
   "id": "47c44403",
   "metadata": {},
   "outputs": [],
   "source": [
    "from sklearn.metrics import accuracy_score,classification_report,confusion_matrix"
   ]
  },
  {
   "cell_type": "code",
   "execution_count": 469,
   "id": "2c8f7c7e",
   "metadata": {},
   "outputs": [],
   "source": [
    "import keras\n",
    "from keras.models import Sequential\n",
    "from keras.layers import Dense\n",
    "from keras.utils import np_utils"
   ]
  },
  {
   "cell_type": "code",
   "execution_count": 355,
   "id": "db81392f",
   "metadata": {},
   "outputs": [],
   "source": [
    "df_train=pd.read_csv('C:/Users/Sushree Jena/Desktop/imarticus/machine learning/vindhya/healthcare_analytics/train.csv')"
   ]
  },
  {
   "cell_type": "code",
   "execution_count": 224,
   "id": "cd5d2cfc",
   "metadata": {},
   "outputs": [
    {
     "data": {
      "text/plain": [
       "(318438, 18)"
      ]
     },
     "execution_count": 224,
     "metadata": {},
     "output_type": "execute_result"
    }
   ],
   "source": [
    "df_train.shape"
   ]
  },
  {
   "cell_type": "code",
   "execution_count": 356,
   "id": "2140a93d",
   "metadata": {},
   "outputs": [
    {
     "data": {
      "text/plain": [
       "21-30                 87491\n",
       "11-20                 78139\n",
       "31-40                 55159\n",
       "51-60                 35018\n",
       "0-10                  23604\n",
       "41-50                 11743\n",
       "71-80                 10254\n",
       "More than 100 Days     6683\n",
       "81-90                  4838\n",
       "91-100                 2765\n",
       "61-70                  2744\n",
       "Name: Stay, dtype: int64"
      ]
     },
     "execution_count": 356,
     "metadata": {},
     "output_type": "execute_result"
    }
   ],
   "source": [
    "df_train.Stay.value_counts()"
   ]
  },
  {
   "cell_type": "code",
   "execution_count": 357,
   "id": "c243dfd9",
   "metadata": {},
   "outputs": [
    {
     "data": {
      "text/plain": [
       "318438"
      ]
     },
     "execution_count": 357,
     "metadata": {},
     "output_type": "execute_result"
    }
   ],
   "source": [
    "87491+78139+55159+35018+23604+11743+10254+6683+4838+2765+2744"
   ]
  },
  {
   "cell_type": "code",
   "execution_count": 358,
   "id": "2dc5a15e",
   "metadata": {},
   "outputs": [],
   "source": [
    "df_test=pd.read_csv('C:/Users/Sushree Jena/Desktop/imarticus/machine learning/vindhya/healthcare_analytics/test.csv')"
   ]
  },
  {
   "cell_type": "code",
   "execution_count": 359,
   "id": "f5c85d47",
   "metadata": {},
   "outputs": [
    {
     "data": {
      "text/plain": [
       "(137057, 17)"
      ]
     },
     "execution_count": 359,
     "metadata": {},
     "output_type": "execute_result"
    }
   ],
   "source": [
    "df_test.shape"
   ]
  },
  {
   "cell_type": "code",
   "execution_count": 360,
   "id": "19ca04e3",
   "metadata": {},
   "outputs": [],
   "source": [
    "#Exploratory Data Analysis"
   ]
  },
  {
   "cell_type": "code",
   "execution_count": 361,
   "id": "e6f70c6e",
   "metadata": {},
   "outputs": [],
   "source": [
    "df_train['source']='train'\n",
    "df_test['source']='test'"
   ]
  },
  {
   "cell_type": "code",
   "execution_count": 362,
   "id": "b165eff9",
   "metadata": {},
   "outputs": [
    {
     "data": {
      "text/plain": [
       "(455495, 19)"
      ]
     },
     "execution_count": 362,
     "metadata": {},
     "output_type": "execute_result"
    }
   ],
   "source": [
    "df_health=pd.concat([df_train,df_test],ignore_index=True)\n",
    "df_health.shape"
   ]
  },
  {
   "cell_type": "code",
   "execution_count": 363,
   "id": "9fc77e8f",
   "metadata": {},
   "outputs": [
    {
     "data": {
      "text/html": [
       "<div>\n",
       "<style scoped>\n",
       "    .dataframe tbody tr th:only-of-type {\n",
       "        vertical-align: middle;\n",
       "    }\n",
       "\n",
       "    .dataframe tbody tr th {\n",
       "        vertical-align: top;\n",
       "    }\n",
       "\n",
       "    .dataframe thead th {\n",
       "        text-align: right;\n",
       "    }\n",
       "</style>\n",
       "<table border=\"1\" class=\"dataframe\">\n",
       "  <thead>\n",
       "    <tr style=\"text-align: right;\">\n",
       "      <th></th>\n",
       "      <th>case_id</th>\n",
       "      <th>Hospital_code</th>\n",
       "      <th>Hospital_type_code</th>\n",
       "      <th>City_Code_Hospital</th>\n",
       "      <th>Hospital_region_code</th>\n",
       "      <th>Available Extra Rooms in Hospital</th>\n",
       "      <th>Department</th>\n",
       "      <th>Ward_Type</th>\n",
       "      <th>Ward_Facility_Code</th>\n",
       "      <th>Bed Grade</th>\n",
       "      <th>patientid</th>\n",
       "      <th>City_Code_Patient</th>\n",
       "      <th>Type of Admission</th>\n",
       "      <th>Severity of Illness</th>\n",
       "      <th>Visitors with Patient</th>\n",
       "      <th>Age</th>\n",
       "      <th>Admission_Deposit</th>\n",
       "      <th>Stay</th>\n",
       "      <th>source</th>\n",
       "    </tr>\n",
       "  </thead>\n",
       "  <tbody>\n",
       "    <tr>\n",
       "      <th>0</th>\n",
       "      <td>1</td>\n",
       "      <td>8</td>\n",
       "      <td>c</td>\n",
       "      <td>3</td>\n",
       "      <td>Z</td>\n",
       "      <td>3</td>\n",
       "      <td>radiotherapy</td>\n",
       "      <td>R</td>\n",
       "      <td>F</td>\n",
       "      <td>2.0</td>\n",
       "      <td>31397</td>\n",
       "      <td>7.0</td>\n",
       "      <td>Emergency</td>\n",
       "      <td>Extreme</td>\n",
       "      <td>2</td>\n",
       "      <td>51-60</td>\n",
       "      <td>4911.0</td>\n",
       "      <td>0-10</td>\n",
       "      <td>train</td>\n",
       "    </tr>\n",
       "    <tr>\n",
       "      <th>1</th>\n",
       "      <td>2</td>\n",
       "      <td>2</td>\n",
       "      <td>c</td>\n",
       "      <td>5</td>\n",
       "      <td>Z</td>\n",
       "      <td>2</td>\n",
       "      <td>radiotherapy</td>\n",
       "      <td>S</td>\n",
       "      <td>F</td>\n",
       "      <td>2.0</td>\n",
       "      <td>31397</td>\n",
       "      <td>7.0</td>\n",
       "      <td>Trauma</td>\n",
       "      <td>Extreme</td>\n",
       "      <td>2</td>\n",
       "      <td>51-60</td>\n",
       "      <td>5954.0</td>\n",
       "      <td>41-50</td>\n",
       "      <td>train</td>\n",
       "    </tr>\n",
       "    <tr>\n",
       "      <th>2</th>\n",
       "      <td>3</td>\n",
       "      <td>10</td>\n",
       "      <td>e</td>\n",
       "      <td>1</td>\n",
       "      <td>X</td>\n",
       "      <td>2</td>\n",
       "      <td>anesthesia</td>\n",
       "      <td>S</td>\n",
       "      <td>E</td>\n",
       "      <td>2.0</td>\n",
       "      <td>31397</td>\n",
       "      <td>7.0</td>\n",
       "      <td>Trauma</td>\n",
       "      <td>Extreme</td>\n",
       "      <td>2</td>\n",
       "      <td>51-60</td>\n",
       "      <td>4745.0</td>\n",
       "      <td>31-40</td>\n",
       "      <td>train</td>\n",
       "    </tr>\n",
       "    <tr>\n",
       "      <th>3</th>\n",
       "      <td>4</td>\n",
       "      <td>26</td>\n",
       "      <td>b</td>\n",
       "      <td>2</td>\n",
       "      <td>Y</td>\n",
       "      <td>2</td>\n",
       "      <td>radiotherapy</td>\n",
       "      <td>R</td>\n",
       "      <td>D</td>\n",
       "      <td>2.0</td>\n",
       "      <td>31397</td>\n",
       "      <td>7.0</td>\n",
       "      <td>Trauma</td>\n",
       "      <td>Extreme</td>\n",
       "      <td>2</td>\n",
       "      <td>51-60</td>\n",
       "      <td>7272.0</td>\n",
       "      <td>41-50</td>\n",
       "      <td>train</td>\n",
       "    </tr>\n",
       "    <tr>\n",
       "      <th>4</th>\n",
       "      <td>5</td>\n",
       "      <td>26</td>\n",
       "      <td>b</td>\n",
       "      <td>2</td>\n",
       "      <td>Y</td>\n",
       "      <td>2</td>\n",
       "      <td>radiotherapy</td>\n",
       "      <td>S</td>\n",
       "      <td>D</td>\n",
       "      <td>2.0</td>\n",
       "      <td>31397</td>\n",
       "      <td>7.0</td>\n",
       "      <td>Trauma</td>\n",
       "      <td>Extreme</td>\n",
       "      <td>2</td>\n",
       "      <td>51-60</td>\n",
       "      <td>5558.0</td>\n",
       "      <td>41-50</td>\n",
       "      <td>train</td>\n",
       "    </tr>\n",
       "  </tbody>\n",
       "</table>\n",
       "</div>"
      ],
      "text/plain": [
       "   case_id  Hospital_code Hospital_type_code  City_Code_Hospital  \\\n",
       "0        1              8                  c                   3   \n",
       "1        2              2                  c                   5   \n",
       "2        3             10                  e                   1   \n",
       "3        4             26                  b                   2   \n",
       "4        5             26                  b                   2   \n",
       "\n",
       "  Hospital_region_code  Available Extra Rooms in Hospital    Department  \\\n",
       "0                    Z                                  3  radiotherapy   \n",
       "1                    Z                                  2  radiotherapy   \n",
       "2                    X                                  2    anesthesia   \n",
       "3                    Y                                  2  radiotherapy   \n",
       "4                    Y                                  2  radiotherapy   \n",
       "\n",
       "  Ward_Type Ward_Facility_Code  Bed Grade  patientid  City_Code_Patient  \\\n",
       "0         R                  F        2.0      31397                7.0   \n",
       "1         S                  F        2.0      31397                7.0   \n",
       "2         S                  E        2.0      31397                7.0   \n",
       "3         R                  D        2.0      31397                7.0   \n",
       "4         S                  D        2.0      31397                7.0   \n",
       "\n",
       "  Type of Admission Severity of Illness  Visitors with Patient    Age  \\\n",
       "0         Emergency             Extreme                      2  51-60   \n",
       "1            Trauma             Extreme                      2  51-60   \n",
       "2            Trauma             Extreme                      2  51-60   \n",
       "3            Trauma             Extreme                      2  51-60   \n",
       "4            Trauma             Extreme                      2  51-60   \n",
       "\n",
       "   Admission_Deposit   Stay source  \n",
       "0             4911.0   0-10  train  \n",
       "1             5954.0  41-50  train  \n",
       "2             4745.0  31-40  train  \n",
       "3             7272.0  41-50  train  \n",
       "4             5558.0  41-50  train  "
      ]
     },
     "execution_count": 363,
     "metadata": {},
     "output_type": "execute_result"
    }
   ],
   "source": [
    "df_health.head()"
   ]
  },
  {
   "cell_type": "code",
   "execution_count": 364,
   "id": "1442a9f6",
   "metadata": {},
   "outputs": [
    {
     "data": {
      "text/plain": [
       "455495"
      ]
     },
     "execution_count": 364,
     "metadata": {},
     "output_type": "execute_result"
    }
   ],
   "source": [
    "len(df_health.case_id.unique())"
   ]
  },
  {
   "cell_type": "code",
   "execution_count": 365,
   "id": "1ad63511",
   "metadata": {},
   "outputs": [
    {
     "data": {
      "text/plain": [
       "21-30                 87491\n",
       "11-20                 78139\n",
       "31-40                 55159\n",
       "51-60                 35018\n",
       "0-10                  23604\n",
       "41-50                 11743\n",
       "71-80                 10254\n",
       "More than 100 Days     6683\n",
       "81-90                  4838\n",
       "91-100                 2765\n",
       "61-70                  2744\n",
       "Name: Stay, dtype: int64"
      ]
     },
     "execution_count": 365,
     "metadata": {},
     "output_type": "execute_result"
    }
   ],
   "source": [
    "df_health.Stay.value_counts()"
   ]
  },
  {
   "cell_type": "code",
   "execution_count": 366,
   "id": "6c3a5d0e",
   "metadata": {},
   "outputs": [
    {
     "name": "stdout",
     "output_type": "stream",
     "text": [
      "<class 'pandas.core.frame.DataFrame'>\n",
      "RangeIndex: 455495 entries, 0 to 455494\n",
      "Data columns (total 19 columns):\n",
      " #   Column                             Non-Null Count   Dtype  \n",
      "---  ------                             --------------   -----  \n",
      " 0   case_id                            455495 non-null  int64  \n",
      " 1   Hospital_code                      455495 non-null  int64  \n",
      " 2   Hospital_type_code                 455495 non-null  object \n",
      " 3   City_Code_Hospital                 455495 non-null  int64  \n",
      " 4   Hospital_region_code               455495 non-null  object \n",
      " 5   Available Extra Rooms in Hospital  455495 non-null  int64  \n",
      " 6   Department                         455495 non-null  object \n",
      " 7   Ward_Type                          455495 non-null  object \n",
      " 8   Ward_Facility_Code                 455495 non-null  object \n",
      " 9   Bed Grade                          455347 non-null  float64\n",
      " 10  patientid                          455495 non-null  int64  \n",
      " 11  City_Code_Patient                  448806 non-null  float64\n",
      " 12  Type of Admission                  455495 non-null  object \n",
      " 13  Severity of Illness                455495 non-null  object \n",
      " 14  Visitors with Patient              455495 non-null  int64  \n",
      " 15  Age                                455495 non-null  object \n",
      " 16  Admission_Deposit                  455495 non-null  float64\n",
      " 17  Stay                               318438 non-null  object \n",
      " 18  source                             455495 non-null  object \n",
      "dtypes: float64(3), int64(6), object(10)\n",
      "memory usage: 66.0+ MB\n"
     ]
    }
   ],
   "source": [
    "df_health.info()"
   ]
  },
  {
   "cell_type": "code",
   "execution_count": 367,
   "id": "fdf3dc01",
   "metadata": {},
   "outputs": [],
   "source": [
    "#Summary Description"
   ]
  },
  {
   "cell_type": "code",
   "execution_count": 368,
   "id": "4c2de8a2",
   "metadata": {},
   "outputs": [
    {
     "data": {
      "text/html": [
       "<div>\n",
       "<style scoped>\n",
       "    .dataframe tbody tr th:only-of-type {\n",
       "        vertical-align: middle;\n",
       "    }\n",
       "\n",
       "    .dataframe tbody tr th {\n",
       "        vertical-align: top;\n",
       "    }\n",
       "\n",
       "    .dataframe thead th {\n",
       "        text-align: right;\n",
       "    }\n",
       "</style>\n",
       "<table border=\"1\" class=\"dataframe\">\n",
       "  <thead>\n",
       "    <tr style=\"text-align: right;\">\n",
       "      <th></th>\n",
       "      <th>case_id</th>\n",
       "      <th>Hospital_code</th>\n",
       "      <th>City_Code_Hospital</th>\n",
       "      <th>Available Extra Rooms in Hospital</th>\n",
       "      <th>Bed Grade</th>\n",
       "      <th>patientid</th>\n",
       "      <th>City_Code_Patient</th>\n",
       "      <th>Visitors with Patient</th>\n",
       "      <th>Admission_Deposit</th>\n",
       "    </tr>\n",
       "  </thead>\n",
       "  <tbody>\n",
       "    <tr>\n",
       "      <th>count</th>\n",
       "      <td>455495.00000</td>\n",
       "      <td>455495.000000</td>\n",
       "      <td>455495.000000</td>\n",
       "      <td>455495.000000</td>\n",
       "      <td>455347.000000</td>\n",
       "      <td>455495.000000</td>\n",
       "      <td>448806.000000</td>\n",
       "      <td>455495.000000</td>\n",
       "      <td>455495.000000</td>\n",
       "    </tr>\n",
       "    <tr>\n",
       "      <th>mean</th>\n",
       "      <td>227748.00000</td>\n",
       "      <td>18.326335</td>\n",
       "      <td>4.767798</td>\n",
       "      <td>3.196140</td>\n",
       "      <td>2.628420</td>\n",
       "      <td>65786.793563</td>\n",
       "      <td>7.249495</td>\n",
       "      <td>3.284229</td>\n",
       "      <td>4877.434022</td>\n",
       "    </tr>\n",
       "    <tr>\n",
       "      <th>std</th>\n",
       "      <td>131490.22477</td>\n",
       "      <td>8.634036</td>\n",
       "      <td>3.102450</td>\n",
       "      <td>1.166994</td>\n",
       "      <td>0.871997</td>\n",
       "      <td>37968.830850</td>\n",
       "      <td>4.758941</td>\n",
       "      <td>1.768044</td>\n",
       "      <td>1084.982089</td>\n",
       "    </tr>\n",
       "    <tr>\n",
       "      <th>min</th>\n",
       "      <td>1.00000</td>\n",
       "      <td>1.000000</td>\n",
       "      <td>1.000000</td>\n",
       "      <td>0.000000</td>\n",
       "      <td>1.000000</td>\n",
       "      <td>1.000000</td>\n",
       "      <td>1.000000</td>\n",
       "      <td>0.000000</td>\n",
       "      <td>1800.000000</td>\n",
       "    </tr>\n",
       "    <tr>\n",
       "      <th>25%</th>\n",
       "      <td>113874.50000</td>\n",
       "      <td>11.000000</td>\n",
       "      <td>2.000000</td>\n",
       "      <td>2.000000</td>\n",
       "      <td>2.000000</td>\n",
       "      <td>32874.000000</td>\n",
       "      <td>4.000000</td>\n",
       "      <td>2.000000</td>\n",
       "      <td>4184.000000</td>\n",
       "    </tr>\n",
       "    <tr>\n",
       "      <th>50%</th>\n",
       "      <td>227748.00000</td>\n",
       "      <td>19.000000</td>\n",
       "      <td>5.000000</td>\n",
       "      <td>3.000000</td>\n",
       "      <td>3.000000</td>\n",
       "      <td>65735.000000</td>\n",
       "      <td>8.000000</td>\n",
       "      <td>3.000000</td>\n",
       "      <td>4738.000000</td>\n",
       "    </tr>\n",
       "    <tr>\n",
       "      <th>75%</th>\n",
       "      <td>341621.50000</td>\n",
       "      <td>26.000000</td>\n",
       "      <td>7.000000</td>\n",
       "      <td>4.000000</td>\n",
       "      <td>3.000000</td>\n",
       "      <td>98576.500000</td>\n",
       "      <td>8.000000</td>\n",
       "      <td>4.000000</td>\n",
       "      <td>5405.000000</td>\n",
       "    </tr>\n",
       "    <tr>\n",
       "      <th>max</th>\n",
       "      <td>455495.00000</td>\n",
       "      <td>32.000000</td>\n",
       "      <td>13.000000</td>\n",
       "      <td>24.000000</td>\n",
       "      <td>4.000000</td>\n",
       "      <td>131624.000000</td>\n",
       "      <td>38.000000</td>\n",
       "      <td>32.000000</td>\n",
       "      <td>11920.000000</td>\n",
       "    </tr>\n",
       "  </tbody>\n",
       "</table>\n",
       "</div>"
      ],
      "text/plain": [
       "            case_id  Hospital_code  City_Code_Hospital  \\\n",
       "count  455495.00000  455495.000000       455495.000000   \n",
       "mean   227748.00000      18.326335            4.767798   \n",
       "std    131490.22477       8.634036            3.102450   \n",
       "min         1.00000       1.000000            1.000000   \n",
       "25%    113874.50000      11.000000            2.000000   \n",
       "50%    227748.00000      19.000000            5.000000   \n",
       "75%    341621.50000      26.000000            7.000000   \n",
       "max    455495.00000      32.000000           13.000000   \n",
       "\n",
       "       Available Extra Rooms in Hospital      Bed Grade      patientid  \\\n",
       "count                      455495.000000  455347.000000  455495.000000   \n",
       "mean                            3.196140       2.628420   65786.793563   \n",
       "std                             1.166994       0.871997   37968.830850   \n",
       "min                             0.000000       1.000000       1.000000   \n",
       "25%                             2.000000       2.000000   32874.000000   \n",
       "50%                             3.000000       3.000000   65735.000000   \n",
       "75%                             4.000000       3.000000   98576.500000   \n",
       "max                            24.000000       4.000000  131624.000000   \n",
       "\n",
       "       City_Code_Patient  Visitors with Patient  Admission_Deposit  \n",
       "count      448806.000000          455495.000000      455495.000000  \n",
       "mean            7.249495               3.284229        4877.434022  \n",
       "std             4.758941               1.768044        1084.982089  \n",
       "min             1.000000               0.000000        1800.000000  \n",
       "25%             4.000000               2.000000        4184.000000  \n",
       "50%             8.000000               3.000000        4738.000000  \n",
       "75%             8.000000               4.000000        5405.000000  \n",
       "max            38.000000              32.000000       11920.000000  "
      ]
     },
     "execution_count": 368,
     "metadata": {},
     "output_type": "execute_result"
    }
   ],
   "source": [
    "df_health.describe()"
   ]
  },
  {
   "cell_type": "code",
   "execution_count": 369,
   "id": "7ef25c00",
   "metadata": {},
   "outputs": [
    {
     "data": {
      "text/plain": [
       "Index(['case_id', 'Hospital_code', 'City_Code_Hospital',\n",
       "       'Available Extra Rooms in Hospital', 'Bed Grade', 'patientid',\n",
       "       'City_Code_Patient', 'Visitors with Patient', 'Admission_Deposit'],\n",
       "      dtype='object')"
      ]
     },
     "execution_count": 369,
     "metadata": {},
     "output_type": "execute_result"
    }
   ],
   "source": [
    "num=df_health.select_dtypes(include=np.number)\n",
    "num.columns"
   ]
  },
  {
   "cell_type": "code",
   "execution_count": 370,
   "id": "32ac068c",
   "metadata": {},
   "outputs": [],
   "source": [
    "#Checking for outliers"
   ]
  },
  {
   "cell_type": "code",
   "execution_count": 371,
   "id": "755795d7",
   "metadata": {},
   "outputs": [
    {
     "data": {
      "image/png": "[encoded data removed]",
      "text/plain": [
       "<Figure size 1080x648 with 1 Axes>"
      ]
     },
     "metadata": {
      "needs_background": "light"
     },
     "output_type": "display_data"
    }
   ],
   "source": [
    "plt.figure(figsize=[15,9])\n",
    "sns.boxplot(data=df_health)\n",
    "plt.show()"
   ]
  },
  {
   "cell_type": "markdown",
   "id": "f603653c",
   "metadata": {},
   "source": [
    "We can see that there are outliers present in four features. We need to treat them."
   ]
  },
  {
   "cell_type": "code",
   "execution_count": 372,
   "id": "7af1c31c",
   "metadata": {},
   "outputs": [],
   "source": [
    "cols=['Available Extra Rooms in Hospital','City_Code_Patient', 'Visitors with Patient', 'Admission_Deposit']"
   ]
  },
  {
   "cell_type": "code",
   "execution_count": 373,
   "id": "b2d5b07a",
   "metadata": {},
   "outputs": [],
   "source": [
    "def boundaries(data,variable):\n",
    "    LL=(data[variable].quantile(.25))-(((data[variable].quantile(.75))-(data[variable].quantile(.25)))*1.5)\n",
    "    UL=(data[variable].quantile(.75))+(((data[variable].quantile(.75))-(data[variable].quantile(.25)))*1.5)\n",
    "    return LL,UL"
   ]
  },
  {
   "cell_type": "code",
   "execution_count": 374,
   "id": "3ef1c53c",
   "metadata": {},
   "outputs": [],
   "source": [
    "for col in cols:\n",
    "    LL,UL=boundaries(df_health,col)\n",
    "    \n",
    "    df_health[col]=np.where(df_health[col]<LL,LL,\n",
    "                           np.where(df_health[col]>UL,UL,df_health[col]))"
   ]
  },
  {
   "cell_type": "code",
   "execution_count": 375,
   "id": "9f09430f",
   "metadata": {},
   "outputs": [
    {
     "data": {
      "image/png": "[encoded data removed]",
      "text/plain": [
       "<Figure size 1080x648 with 1 Axes>"
      ]
     },
     "metadata": {
      "needs_background": "light"
     },
     "output_type": "display_data"
    }
   ],
   "source": [
    "plt.figure(figsize=[15,9])\n",
    "sns.boxplot(data=df_health)\n",
    "plt.show()"
   ]
  },
  {
   "cell_type": "markdown",
   "id": "5daa9820",
   "metadata": {},
   "source": [
    "We can see that the outliers have been treated now."
   ]
  },
  {
   "cell_type": "code",
   "execution_count": 376,
   "id": "c61d6718",
   "metadata": {},
   "outputs": [],
   "source": [
    "#Renaming the columns"
   ]
  },
  {
   "cell_type": "code",
   "execution_count": 377,
   "id": "2acf2d6c",
   "metadata": {},
   "outputs": [],
   "source": [
    "df_health=df_health.rename(columns={'Bed Grade':'Bed_Grade','Type of Admission':'Type_of_Admission'})"
   ]
  },
  {
   "cell_type": "code",
   "execution_count": 378,
   "id": "241aefe5",
   "metadata": {},
   "outputs": [],
   "source": [
    "#Checking for Missing Values"
   ]
  },
  {
   "cell_type": "code",
   "execution_count": 379,
   "id": "f1b1d147",
   "metadata": {},
   "outputs": [
    {
     "data": {
      "text/plain": [
       "case_id                                   0\n",
       "Hospital_code                             0\n",
       "Hospital_type_code                        0\n",
       "City_Code_Hospital                        0\n",
       "Hospital_region_code                      0\n",
       "Available Extra Rooms in Hospital         0\n",
       "Department                                0\n",
       "Ward_Type                                 0\n",
       "Ward_Facility_Code                        0\n",
       "Bed_Grade                               148\n",
       "patientid                                 0\n",
       "City_Code_Patient                      6689\n",
       "Type_of_Admission                         0\n",
       "Severity of Illness                       0\n",
       "Visitors with Patient                     0\n",
       "Age                                       0\n",
       "Admission_Deposit                         0\n",
       "Stay                                 137057\n",
       "source                                    0\n",
       "dtype: int64"
      ]
     },
     "execution_count": 379,
     "metadata": {},
     "output_type": "execute_result"
    }
   ],
   "source": [
    "df_health.isnull().sum()"
   ]
  },
  {
   "cell_type": "markdown",
   "id": "9f104bc6",
   "metadata": {},
   "source": [
    "We can see that we have missing values in Bed_Grade and City_Code_Patient columns. We need to treat them."
   ]
  },
  {
   "cell_type": "code",
   "execution_count": 380,
   "id": "d9e83b5f",
   "metadata": {},
   "outputs": [],
   "source": [
    "#Bed_Grade column"
   ]
  },
  {
   "cell_type": "code",
   "execution_count": 381,
   "id": "98a7b352",
   "metadata": {},
   "outputs": [
    {
     "data": {
      "text/html": [
       "<div>\n",
       "<style scoped>\n",
       "    .dataframe tbody tr th:only-of-type {\n",
       "        vertical-align: middle;\n",
       "    }\n",
       "\n",
       "    .dataframe tbody tr th {\n",
       "        vertical-align: top;\n",
       "    }\n",
       "\n",
       "    .dataframe thead th {\n",
       "        text-align: right;\n",
       "    }\n",
       "</style>\n",
       "<table border=\"1\" class=\"dataframe\">\n",
       "  <thead>\n",
       "    <tr style=\"text-align: right;\">\n",
       "      <th></th>\n",
       "      <th>Type_of_Admission</th>\n",
       "      <th>Bed_Grade</th>\n",
       "      <th>value</th>\n",
       "    </tr>\n",
       "  </thead>\n",
       "  <tbody>\n",
       "    <tr>\n",
       "      <th>0</th>\n",
       "      <td>Emergency</td>\n",
       "      <td>2.0</td>\n",
       "      <td>71750</td>\n",
       "    </tr>\n",
       "    <tr>\n",
       "      <th>1</th>\n",
       "      <td>Emergency</td>\n",
       "      <td>3.0</td>\n",
       "      <td>51292</td>\n",
       "    </tr>\n",
       "    <tr>\n",
       "      <th>2</th>\n",
       "      <td>Emergency</td>\n",
       "      <td>4.0</td>\n",
       "      <td>24008</td>\n",
       "    </tr>\n",
       "    <tr>\n",
       "      <th>3</th>\n",
       "      <td>Emergency</td>\n",
       "      <td>1.0</td>\n",
       "      <td>21247</td>\n",
       "    </tr>\n",
       "    <tr>\n",
       "      <th>4</th>\n",
       "      <td>Trauma</td>\n",
       "      <td>3.0</td>\n",
       "      <td>82280</td>\n",
       "    </tr>\n",
       "  </tbody>\n",
       "</table>\n",
       "</div>"
      ],
      "text/plain": [
       "  Type_of_Admission  Bed_Grade  value\n",
       "0         Emergency        2.0  71750\n",
       "1         Emergency        3.0  51292\n",
       "2         Emergency        4.0  24008\n",
       "3         Emergency        1.0  21247\n",
       "4            Trauma        3.0  82280"
      ]
     },
     "execution_count": 381,
     "metadata": {},
     "output_type": "execute_result"
    }
   ],
   "source": [
    "df1=df_health.groupby('Type_of_Admission')['Bed_Grade'].value_counts().to_frame(name='value')\n",
    "df1=df1.reset_index()\n",
    "df1.head()"
   ]
  },
  {
   "cell_type": "code",
   "execution_count": 382,
   "id": "ff3ea199",
   "metadata": {},
   "outputs": [],
   "source": [
    "def get_mode(admn):\n",
    "    vc=df1.loc[df1['Type_of_Admission']==admn].max()\n",
    "    return vc['Bed_Grade']"
   ]
  },
  {
   "cell_type": "code",
   "execution_count": 383,
   "id": "4678c39f",
   "metadata": {},
   "outputs": [],
   "source": [
    "df_health.loc[df_health.Bed_Grade.isnull(),'Bed_Grade']=\\\n",
    "df_health.loc[df_health.Bed_Grade.isnull(),'Type_of_Admission'].apply(lambda x:get_mode(x))"
   ]
  },
  {
   "cell_type": "code",
   "execution_count": 384,
   "id": "916c034f",
   "metadata": {},
   "outputs": [
    {
     "data": {
      "text/plain": [
       "case_id                                   0\n",
       "Hospital_code                             0\n",
       "Hospital_type_code                        0\n",
       "City_Code_Hospital                        0\n",
       "Hospital_region_code                      0\n",
       "Available Extra Rooms in Hospital         0\n",
       "Department                                0\n",
       "Ward_Type                                 0\n",
       "Ward_Facility_Code                        0\n",
       "Bed_Grade                                 0\n",
       "patientid                                 0\n",
       "City_Code_Patient                      6689\n",
       "Type_of_Admission                         0\n",
       "Severity of Illness                       0\n",
       "Visitors with Patient                     0\n",
       "Age                                       0\n",
       "Admission_Deposit                         0\n",
       "Stay                                 137057\n",
       "source                                    0\n",
       "dtype: int64"
      ]
     },
     "execution_count": 384,
     "metadata": {},
     "output_type": "execute_result"
    }
   ],
   "source": [
    "df_health.isnull().sum()"
   ]
  },
  {
   "cell_type": "code",
   "execution_count": 385,
   "id": "1a161880",
   "metadata": {},
   "outputs": [],
   "source": [
    "#City_Code_patient column"
   ]
  },
  {
   "cell_type": "code",
   "execution_count": 386,
   "id": "968f0105",
   "metadata": {},
   "outputs": [
    {
     "data": {
      "text/plain": [
       "City_Code_Hospital\n",
       "1     8.0\n",
       "2     8.0\n",
       "3     8.0\n",
       "4     7.0\n",
       "5     7.0\n",
       "6     7.0\n",
       "7     8.0\n",
       "9     8.0\n",
       "10    8.0\n",
       "11    2.0\n",
       "13    8.0\n",
       "Name: City_Code_Patient, dtype: float64"
      ]
     },
     "execution_count": 386,
     "metadata": {},
     "output_type": "execute_result"
    }
   ],
   "source": [
    "df1=df_health.groupby('City_Code_Hospital')['City_Code_Patient'].median()\n",
    "df1"
   ]
  },
  {
   "cell_type": "code",
   "execution_count": 387,
   "id": "a9253a4c",
   "metadata": {},
   "outputs": [
    {
     "data": {
      "text/html": [
       "<div>\n",
       "<style scoped>\n",
       "    .dataframe tbody tr th:only-of-type {\n",
       "        vertical-align: middle;\n",
       "    }\n",
       "\n",
       "    .dataframe tbody tr th {\n",
       "        vertical-align: top;\n",
       "    }\n",
       "\n",
       "    .dataframe thead th {\n",
       "        text-align: right;\n",
       "    }\n",
       "</style>\n",
       "<table border=\"1\" class=\"dataframe\">\n",
       "  <thead>\n",
       "    <tr style=\"text-align: right;\">\n",
       "      <th></th>\n",
       "      <th>City_Code_Patient</th>\n",
       "      <th>City_Code_Hospital</th>\n",
       "    </tr>\n",
       "  </thead>\n",
       "  <tbody>\n",
       "    <tr>\n",
       "      <th>191</th>\n",
       "      <td>NaN</td>\n",
       "      <td>1</td>\n",
       "    </tr>\n",
       "    <tr>\n",
       "      <th>192</th>\n",
       "      <td>NaN</td>\n",
       "      <td>3</td>\n",
       "    </tr>\n",
       "    <tr>\n",
       "      <th>193</th>\n",
       "      <td>NaN</td>\n",
       "      <td>7</td>\n",
       "    </tr>\n",
       "    <tr>\n",
       "      <th>194</th>\n",
       "      <td>NaN</td>\n",
       "      <td>7</td>\n",
       "    </tr>\n",
       "    <tr>\n",
       "      <th>195</th>\n",
       "      <td>NaN</td>\n",
       "      <td>1</td>\n",
       "    </tr>\n",
       "    <tr>\n",
       "      <th>...</th>\n",
       "      <td>...</td>\n",
       "      <td>...</td>\n",
       "    </tr>\n",
       "    <tr>\n",
       "      <th>455259</th>\n",
       "      <td>NaN</td>\n",
       "      <td>9</td>\n",
       "    </tr>\n",
       "    <tr>\n",
       "      <th>455269</th>\n",
       "      <td>NaN</td>\n",
       "      <td>6</td>\n",
       "    </tr>\n",
       "    <tr>\n",
       "      <th>455349</th>\n",
       "      <td>NaN</td>\n",
       "      <td>11</td>\n",
       "    </tr>\n",
       "    <tr>\n",
       "      <th>455381</th>\n",
       "      <td>NaN</td>\n",
       "      <td>6</td>\n",
       "    </tr>\n",
       "    <tr>\n",
       "      <th>455403</th>\n",
       "      <td>NaN</td>\n",
       "      <td>2</td>\n",
       "    </tr>\n",
       "  </tbody>\n",
       "</table>\n",
       "<p>6689 rows × 2 columns</p>\n",
       "</div>"
      ],
      "text/plain": [
       "        City_Code_Patient  City_Code_Hospital\n",
       "191                   NaN                   1\n",
       "192                   NaN                   3\n",
       "193                   NaN                   7\n",
       "194                   NaN                   7\n",
       "195                   NaN                   1\n",
       "...                   ...                 ...\n",
       "455259                NaN                   9\n",
       "455269                NaN                   6\n",
       "455349                NaN                  11\n",
       "455381                NaN                   6\n",
       "455403                NaN                   2\n",
       "\n",
       "[6689 rows x 2 columns]"
      ]
     },
     "execution_count": 387,
     "metadata": {},
     "output_type": "execute_result"
    }
   ],
   "source": [
    "missing_index=df_health.loc[df_health.City_Code_Patient.isnull(),['City_Code_Patient','City_Code_Hospital']]\n",
    "missing_index"
   ]
  },
  {
   "cell_type": "code",
   "execution_count": 388,
   "id": "5e6cea4b",
   "metadata": {},
   "outputs": [],
   "source": [
    "df_health.loc[missing_index.index,'City_Code_Patient']=\\\n",
    "df_health.loc[missing_index.index,'City_Code_Hospital'].apply(lambda x:df1.loc[x])"
   ]
  },
  {
   "cell_type": "code",
   "execution_count": 389,
   "id": "c3aceedb",
   "metadata": {},
   "outputs": [
    {
     "data": {
      "text/plain": [
       "case_id                                   0\n",
       "Hospital_code                             0\n",
       "Hospital_type_code                        0\n",
       "City_Code_Hospital                        0\n",
       "Hospital_region_code                      0\n",
       "Available Extra Rooms in Hospital         0\n",
       "Department                                0\n",
       "Ward_Type                                 0\n",
       "Ward_Facility_Code                        0\n",
       "Bed_Grade                                 0\n",
       "patientid                                 0\n",
       "City_Code_Patient                         0\n",
       "Type_of_Admission                         0\n",
       "Severity of Illness                       0\n",
       "Visitors with Patient                     0\n",
       "Age                                       0\n",
       "Admission_Deposit                         0\n",
       "Stay                                 137057\n",
       "source                                    0\n",
       "dtype: int64"
      ]
     },
     "execution_count": 389,
     "metadata": {},
     "output_type": "execute_result"
    }
   ],
   "source": [
    "df_health.isnull().sum()"
   ]
  },
  {
   "cell_type": "markdown",
   "id": "84d51628",
   "metadata": {},
   "source": [
    "The missing values are treated now."
   ]
  },
  {
   "cell_type": "code",
   "execution_count": 390,
   "id": "08d42cfb",
   "metadata": {},
   "outputs": [],
   "source": [
    "#Test for correlation"
   ]
  },
  {
   "cell_type": "code",
   "execution_count": 391,
   "id": "5bb87690",
   "metadata": {},
   "outputs": [
    {
     "data": {
      "image/png": "[encoded data removed]",
      "text/plain": [
       "<Figure size 432x288 with 2 Axes>"
      ]
     },
     "metadata": {
      "needs_background": "light"
     },
     "output_type": "display_data"
    }
   ],
   "source": [
    "sns.heatmap(df_health.corr(),annot=True)\n",
    "plt.show()"
   ]
  },
  {
   "cell_type": "markdown",
   "id": "33f64066",
   "metadata": {},
   "source": [
    "We can see that there is no strong correlation among the features."
   ]
  },
  {
   "cell_type": "code",
   "execution_count": 392,
   "id": "88c2b9c6",
   "metadata": {},
   "outputs": [],
   "source": [
    "#Separating the train and test set"
   ]
  },
  {
   "cell_type": "code",
   "execution_count": 393,
   "id": "49d21ee8",
   "metadata": {},
   "outputs": [],
   "source": [
    "df_train=df_health.loc[df_health['source']=='train']\n",
    "df_test=df_health.loc[df_health['source']=='test']"
   ]
  },
  {
   "cell_type": "code",
   "execution_count": 394,
   "id": "142281d4",
   "metadata": {},
   "outputs": [],
   "source": [
    "df_train1=df_train.drop(['case_id','source'],axis=1)"
   ]
  },
  {
   "cell_type": "code",
   "execution_count": 395,
   "id": "366a0d4c",
   "metadata": {},
   "outputs": [],
   "source": [
    "df_test1=df_test.drop(['case_id','source','Stay'],axis=1)"
   ]
  },
  {
   "cell_type": "code",
   "execution_count": 396,
   "id": "d7ea0558",
   "metadata": {},
   "outputs": [
    {
     "data": {
      "text/plain": [
       "((318438, 17), (137057, 16))"
      ]
     },
     "execution_count": 396,
     "metadata": {},
     "output_type": "execute_result"
    }
   ],
   "source": [
    "df_train1.shape,df_test1.shape"
   ]
  },
  {
   "cell_type": "code",
   "execution_count": 397,
   "id": "d735d8ad",
   "metadata": {},
   "outputs": [],
   "source": [
    "#Dummy Encoding the Categorical features"
   ]
  },
  {
   "cell_type": "code",
   "execution_count": 398,
   "id": "d3770f5c",
   "metadata": {},
   "outputs": [],
   "source": [
    "#for train set"
   ]
  },
  {
   "cell_type": "code",
   "execution_count": 343,
   "id": "bbdf22ff",
   "metadata": {},
   "outputs": [],
   "source": [
    "#Label Ecoding the target variable"
   ]
  },
  {
   "cell_type": "code",
   "execution_count": null,
   "id": "98ed8012",
   "metadata": {},
   "outputs": [],
   "source": [
    "21-30                 87491\n",
    "11-20                 78139\n",
    "31-40                 55159\n",
    "51-60                 35018\n",
    "0-10                  23604\n",
    "41-50                 11743\n",
    "71-80                 10254\n",
    "More than 100 Days     6683\n",
    "81-90                  4838\n",
    "91-100                 2765\n",
    "61-70                  2744"
   ]
  },
  {
   "cell_type": "code",
   "execution_count": 399,
   "id": "d4fa8e1c",
   "metadata": {},
   "outputs": [],
   "source": [
    "le=LabelEncoder()"
   ]
  },
  {
   "cell_type": "code",
   "execution_count": 400,
   "id": "bb2c35d7",
   "metadata": {},
   "outputs": [],
   "source": [
    "df_train1['Stay']=le.fit_transform(df_train1['Stay'])"
   ]
  },
  {
   "cell_type": "code",
   "execution_count": 401,
   "id": "40405e38",
   "metadata": {},
   "outputs": [
    {
     "data": {
      "text/plain": [
       "2     87491\n",
       "1     78139\n",
       "3     55159\n",
       "5     35018\n",
       "0     23604\n",
       "4     11743\n",
       "7     10254\n",
       "10     6683\n",
       "8      4838\n",
       "9      2765\n",
       "6      2744\n",
       "Name: Stay, dtype: int64"
      ]
     },
     "execution_count": 401,
     "metadata": {},
     "output_type": "execute_result"
    }
   ],
   "source": [
    "df_train1.Stay.value_counts()"
   ]
  },
  {
   "cell_type": "code",
   "execution_count": 402,
   "id": "7c6253b8",
   "metadata": {},
   "outputs": [],
   "source": [
    "#One Hot Ecoding of other categorical variables"
   ]
  },
  {
   "cell_type": "code",
   "execution_count": 403,
   "id": "dfc54c8d",
   "metadata": {},
   "outputs": [],
   "source": [
    "df_train1_dummy=pd.get_dummies(df_train1,drop_first=True)"
   ]
  },
  {
   "cell_type": "code",
   "execution_count": 404,
   "id": "98620e5c",
   "metadata": {},
   "outputs": [
    {
     "data": {
      "text/plain": [
       "(318438, 44)"
      ]
     },
     "execution_count": 404,
     "metadata": {},
     "output_type": "execute_result"
    }
   ],
   "source": [
    "df_train1_dummy.shape"
   ]
  },
  {
   "cell_type": "code",
   "execution_count": 405,
   "id": "08375dee",
   "metadata": {},
   "outputs": [],
   "source": [
    "#for test set"
   ]
  },
  {
   "cell_type": "code",
   "execution_count": 406,
   "id": "e9af69df",
   "metadata": {},
   "outputs": [],
   "source": [
    "df_test1_dummy=pd.get_dummies(df_test1,drop_first=True)"
   ]
  },
  {
   "cell_type": "code",
   "execution_count": 407,
   "id": "c2df3605",
   "metadata": {},
   "outputs": [
    {
     "data": {
      "text/plain": [
       "(137057, 43)"
      ]
     },
     "execution_count": 407,
     "metadata": {},
     "output_type": "execute_result"
    }
   ],
   "source": [
    "df_test1_dummy.shape"
   ]
  },
  {
   "cell_type": "code",
   "execution_count": 408,
   "id": "ec8a5440",
   "metadata": {},
   "outputs": [],
   "source": [
    "#Splitting into X_train and y_train"
   ]
  },
  {
   "cell_type": "code",
   "execution_count": 409,
   "id": "f101f8f0",
   "metadata": {},
   "outputs": [
    {
     "data": {
      "text/plain": [
       "Index(['Hospital_code', 'City_Code_Hospital',\n",
       "       'Available Extra Rooms in Hospital', 'Bed_Grade', 'patientid',\n",
       "       'City_Code_Patient', 'Visitors with Patient', 'Admission_Deposit',\n",
       "       'Hospital_type_code_b', 'Hospital_type_code_c', 'Hospital_type_code_d',\n",
       "       'Hospital_type_code_e', 'Hospital_type_code_f', 'Hospital_type_code_g',\n",
       "       'Hospital_region_code_Y', 'Hospital_region_code_Z',\n",
       "       'Department_anesthesia', 'Department_gynecology',\n",
       "       'Department_radiotherapy', 'Department_surgery', 'Ward_Type_Q',\n",
       "       'Ward_Type_R', 'Ward_Type_S', 'Ward_Type_T', 'Ward_Type_U',\n",
       "       'Ward_Facility_Code_B', 'Ward_Facility_Code_C', 'Ward_Facility_Code_D',\n",
       "       'Ward_Facility_Code_E', 'Ward_Facility_Code_F',\n",
       "       'Type_of_Admission_Trauma', 'Type_of_Admission_Urgent',\n",
       "       'Severity of Illness_Minor', 'Severity of Illness_Moderate',\n",
       "       'Age_11-20', 'Age_21-30', 'Age_31-40', 'Age_41-50', 'Age_51-60',\n",
       "       'Age_61-70', 'Age_71-80', 'Age_81-90', 'Age_91-100'],\n",
       "      dtype='object')"
      ]
     },
     "execution_count": 409,
     "metadata": {},
     "output_type": "execute_result"
    }
   ],
   "source": [
    "df_test1_dummy.columns"
   ]
  },
  {
   "cell_type": "code",
   "execution_count": 410,
   "id": "607aa566",
   "metadata": {},
   "outputs": [],
   "source": [
    "X_train=df_train1_dummy.drop('Stay',axis=1)"
   ]
  },
  {
   "cell_type": "code",
   "execution_count": 411,
   "id": "8badbbf0",
   "metadata": {},
   "outputs": [],
   "source": [
    "y_train=df_train1_dummy['Stay']"
   ]
  },
  {
   "cell_type": "code",
   "execution_count": 412,
   "id": "440a40c0",
   "metadata": {},
   "outputs": [],
   "source": [
    "X_test=df_test1_dummy"
   ]
  },
  {
   "cell_type": "code",
   "execution_count": 413,
   "id": "9f22acc3",
   "metadata": {},
   "outputs": [
    {
     "data": {
      "text/plain": [
       "((318438, 43), (318438,), (137057, 43))"
      ]
     },
     "execution_count": 413,
     "metadata": {},
     "output_type": "execute_result"
    }
   ],
   "source": [
    "X_train.shape,y_train.shape,X_test.shape"
   ]
  },
  {
   "cell_type": "code",
   "execution_count": 414,
   "id": "4005749c",
   "metadata": {},
   "outputs": [],
   "source": [
    "#Scaling the data"
   ]
  },
  {
   "cell_type": "code",
   "execution_count": 415,
   "id": "c12d82d1",
   "metadata": {},
   "outputs": [],
   "source": [
    "sc=StandardScaler()"
   ]
  },
  {
   "cell_type": "code",
   "execution_count": 416,
   "id": "fdd33180",
   "metadata": {},
   "outputs": [],
   "source": [
    "X_train_scaled=sc.fit_transform(X_train)\n",
    "X_test_scaled=sc.transform(X_test)"
   ]
  },
  {
   "cell_type": "code",
   "execution_count": 417,
   "id": "93b5fbc8",
   "metadata": {},
   "outputs": [],
   "source": [
    "#Model Building"
   ]
  },
  {
   "cell_type": "markdown",
   "id": "9e1ea90c",
   "metadata": {},
   "source": [
    "1.Logistic Regression"
   ]
  },
  {
   "cell_type": "code",
   "execution_count": 418,
   "id": "89fdd4ef",
   "metadata": {},
   "outputs": [],
   "source": [
    "lr=LogisticRegression()"
   ]
  },
  {
   "cell_type": "code",
   "execution_count": 419,
   "id": "d296a8d9",
   "metadata": {},
   "outputs": [
    {
     "data": {
      "text/html": [
       "<style>#sk-container-id-2 {color: black;background-color: white;}#sk-container-id-2 pre{padding: 0;}#sk-container-id-2 div.sk-toggleable {background-color: white;}#sk-container-id-2 label.sk-toggleable__label {cursor: pointer;display: block;width: 100%;margin-bottom: 0;padding: 0.3em;box-sizing: border-box;text-align: center;}#sk-container-id-2 label.sk-toggleable__label-arrow:before {content: \"▸\";float: left;margin-right: 0.25em;color: #696969;}#sk-container-id-2 label.sk-toggleable__label-arrow:hover:before {color: black;}#sk-container-id-2 div.sk-estimator:hover label.sk-toggleable__label-arrow:before {color: black;}#sk-container-id-2 div.sk-toggleable__content {max-height: 0;max-width: 0;overflow: hidden;text-align: left;background-color: #f0f8ff;}#sk-container-id-2 div.sk-toggleable__content pre {margin: 0.2em;color: black;border-radius: 0.25em;background-color: #f0f8ff;}#sk-container-id-2 input.sk-toggleable__control:checked~div.sk-toggleable__content {max-height: 200px;max-width: 100%;overflow: auto;}#sk-container-id-2 input.sk-toggleable__control:checked~label.sk-toggleable__label-arrow:before {content: \"▾\";}#sk-container-id-2 div.sk-estimator input.sk-toggleable__control:checked~label.sk-toggleable__label {background-color: #d4ebff;}#sk-container-id-2 div.sk-label input.sk-toggleable__control:checked~label.sk-toggleable__label {background-color: #d4ebff;}#sk-container-id-2 input.sk-hidden--visually {border: 0;clip: rect(1px 1px 1px 1px);clip: rect(1px, 1px, 1px, 1px);height: 1px;margin: -1px;overflow: hidden;padding: 0;position: absolute;width: 1px;}#sk-container-id-2 div.sk-estimator {font-family: monospace;background-color: #f0f8ff;border: 1px dotted black;border-radius: 0.25em;box-sizing: border-box;margin-bottom: 0.5em;}#sk-container-id-2 div.sk-estimator:hover {background-color: #d4ebff;}#sk-container-id-2 div.sk-parallel-item::after {content: \"\";width: 100%;border-bottom: 1px solid gray;flex-grow: 1;}#sk-container-id-2 div.sk-label:hover label.sk-toggleable__label {background-color: #d4ebff;}#sk-container-id-2 div.sk-serial::before {content: \"\";position: absolute;border-left: 1px solid gray;box-sizing: border-box;top: 0;bottom: 0;left: 50%;z-index: 0;}#sk-container-id-2 div.sk-serial {display: flex;flex-direction: column;align-items: center;background-color: white;padding-right: 0.2em;padding-left: 0.2em;position: relative;}#sk-container-id-2 div.sk-item {position: relative;z-index: 1;}#sk-container-id-2 div.sk-parallel {display: flex;align-items: stretch;justify-content: center;background-color: white;position: relative;}#sk-container-id-2 div.sk-item::before, #sk-container-id-2 div.sk-parallel-item::before {content: \"\";position: absolute;border-left: 1px solid gray;box-sizing: border-box;top: 0;bottom: 0;left: 50%;z-index: -1;}#sk-container-id-2 div.sk-parallel-item {display: flex;flex-direction: column;z-index: 1;position: relative;background-color: white;}#sk-container-id-2 div.sk-parallel-item:first-child::after {align-self: flex-end;width: 50%;}#sk-container-id-2 div.sk-parallel-item:last-child::after {align-self: flex-start;width: 50%;}#sk-container-id-2 div.sk-parallel-item:only-child::after {width: 0;}#sk-container-id-2 div.sk-dashed-wrapped {border: 1px dashed gray;margin: 0 0.4em 0.5em 0.4em;box-sizing: border-box;padding-bottom: 0.4em;background-color: white;}#sk-container-id-2 div.sk-label label {font-family: monospace;font-weight: bold;display: inline-block;line-height: 1.2em;}#sk-container-id-2 div.sk-label-container {text-align: center;}#sk-container-id-2 div.sk-container {/* jupyter's `normalize.less` sets `[hidden] { display: none; }` but bootstrap.min.css set `[hidden] { display: none !important; }` so we also need the `!important` here to be able to override the default hidden behavior on the sphinx rendered scikit-learn.org. See: https://github.com/scikit-learn/scikit-learn/issues/21755 */display: inline-block !important;position: relative;}#sk-container-id-2 div.sk-text-repr-fallback {display: none;}</style><div id=\"sk-container-id-2\" class=\"sk-top-container\"><div class=\"sk-text-repr-fallback\"><pre>LogisticRegression()</pre><b>In a Jupyter environment, please rerun this cell to show the HTML representation or trust the notebook. <br />On GitHub, the HTML representation is unable to render, please try loading this page with nbviewer.org.</b></div><div class=\"sk-container\" hidden><div class=\"sk-item\"><div class=\"sk-estimator sk-toggleable\"><input class=\"sk-toggleable__control sk-hidden--visually\" id=\"sk-estimator-id-2\" type=\"checkbox\" checked><label for=\"sk-estimator-id-2\" class=\"sk-toggleable__label sk-toggleable__label-arrow\">LogisticRegression</label><div class=\"sk-toggleable__content\"><pre>LogisticRegression()</pre></div></div></div></div></div>"
      ],
      "text/plain": [
       "LogisticRegression()"
      ]
     },
     "execution_count": 419,
     "metadata": {},
     "output_type": "execute_result"
    }
   ],
   "source": [
    "lr.fit(X_train_scaled,y_train)"
   ]
  },
  {
   "cell_type": "code",
   "execution_count": 420,
   "id": "c4c88433",
   "metadata": {},
   "outputs": [],
   "source": [
    "y_pred_train=lr.predict(X_train_scaled)"
   ]
  },
  {
   "cell_type": "code",
   "execution_count": 421,
   "id": "6a25662b",
   "metadata": {},
   "outputs": [],
   "source": [
    "y_pred_test=lr.predict(X_test_scaled)"
   ]
  },
  {
   "cell_type": "code",
   "execution_count": 422,
   "id": "9ac870e2",
   "metadata": {},
   "outputs": [
    {
     "name": "stdout",
     "output_type": "stream",
     "text": [
      "Training Accuracy:  0.38908672959885443\n"
     ]
    }
   ],
   "source": [
    "print('Training Accuracy: ',accuracy_score(y_train,y_pred_train))"
   ]
  },
  {
   "cell_type": "code",
   "execution_count": 423,
   "id": "7eb5aaaf",
   "metadata": {},
   "outputs": [],
   "source": [
    "submit_lr=pd.DataFrame({'case_id':df_test['case_id'],'Stay':y_pred_test})"
   ]
  },
  {
   "cell_type": "code",
   "execution_count": 424,
   "id": "2f1bbf07",
   "metadata": {},
   "outputs": [],
   "source": [
    "def segment(x):\n",
    "    if x==0:\n",
    "        x='0-10'\n",
    "    if x==1:\n",
    "        x='11-20'\n",
    "    if x==2:\n",
    "        x='21-30'\n",
    "    if x==3:\n",
    "        x='31-40'\n",
    "    if x==4:\n",
    "        x='41-50'\n",
    "    if x==5:\n",
    "        x='51-60'\n",
    "    if x==6:\n",
    "        x='61-70'\n",
    "    if x==7:\n",
    "        x='71-80'\n",
    "    if x==8:\n",
    "        x='81-90'\n",
    "    if x==9:\n",
    "        x='91-100'\n",
    "    if x==10:\n",
    "        x='More than 100 Days'\n",
    "    return x"
   ]
  },
  {
   "cell_type": "code",
   "execution_count": 425,
   "id": "361d552d",
   "metadata": {},
   "outputs": [],
   "source": [
    "submit_lr['Stay']=submit_lr['Stay'].apply(segment)"
   ]
  },
  {
   "cell_type": "code",
   "execution_count": 427,
   "id": "77de47f5",
   "metadata": {},
   "outputs": [],
   "source": [
    "submit_lr.to_csv('healthcare_analytics.submit_lr.csv',index=False)"
   ]
  },
  {
   "cell_type": "markdown",
   "id": "84dfb08c",
   "metadata": {},
   "source": [
    "2.Decision Tree"
   ]
  },
  {
   "cell_type": "code",
   "execution_count": 430,
   "id": "1839275b",
   "metadata": {},
   "outputs": [],
   "source": [
    "dt=DecisionTreeClassifier()"
   ]
  },
  {
   "cell_type": "code",
   "execution_count": 431,
   "id": "3fc97eb1",
   "metadata": {},
   "outputs": [
    {
     "data": {
      "text/html": [
       "<style>#sk-container-id-3 {color: black;background-color: white;}#sk-container-id-3 pre{padding: 0;}#sk-container-id-3 div.sk-toggleable {background-color: white;}#sk-container-id-3 label.sk-toggleable__label {cursor: pointer;display: block;width: 100%;margin-bottom: 0;padding: 0.3em;box-sizing: border-box;text-align: center;}#sk-container-id-3 label.sk-toggleable__label-arrow:before {content: \"▸\";float: left;margin-right: 0.25em;color: #696969;}#sk-container-id-3 label.sk-toggleable__label-arrow:hover:before {color: black;}#sk-container-id-3 div.sk-estimator:hover label.sk-toggleable__label-arrow:before {color: black;}#sk-container-id-3 div.sk-toggleable__content {max-height: 0;max-width: 0;overflow: hidden;text-align: left;background-color: #f0f8ff;}#sk-container-id-3 div.sk-toggleable__content pre {margin: 0.2em;color: black;border-radius: 0.25em;background-color: #f0f8ff;}#sk-container-id-3 input.sk-toggleable__control:checked~div.sk-toggleable__content {max-height: 200px;max-width: 100%;overflow: auto;}#sk-container-id-3 input.sk-toggleable__control:checked~label.sk-toggleable__label-arrow:before {content: \"▾\";}#sk-container-id-3 div.sk-estimator input.sk-toggleable__control:checked~label.sk-toggleable__label {background-color: #d4ebff;}#sk-container-id-3 div.sk-label input.sk-toggleable__control:checked~label.sk-toggleable__label {background-color: #d4ebff;}#sk-container-id-3 input.sk-hidden--visually {border: 0;clip: rect(1px 1px 1px 1px);clip: rect(1px, 1px, 1px, 1px);height: 1px;margin: -1px;overflow: hidden;padding: 0;position: absolute;width: 1px;}#sk-container-id-3 div.sk-estimator {font-family: monospace;background-color: #f0f8ff;border: 1px dotted black;border-radius: 0.25em;box-sizing: border-box;margin-bottom: 0.5em;}#sk-container-id-3 div.sk-estimator:hover {background-color: #d4ebff;}#sk-container-id-3 div.sk-parallel-item::after {content: \"\";width: 100%;border-bottom: 1px solid gray;flex-grow: 1;}#sk-container-id-3 div.sk-label:hover label.sk-toggleable__label {background-color: #d4ebff;}#sk-container-id-3 div.sk-serial::before {content: \"\";position: absolute;border-left: 1px solid gray;box-sizing: border-box;top: 0;bottom: 0;left: 50%;z-index: 0;}#sk-container-id-3 div.sk-serial {display: flex;flex-direction: column;align-items: center;background-color: white;padding-right: 0.2em;padding-left: 0.2em;position: relative;}#sk-container-id-3 div.sk-item {position: relative;z-index: 1;}#sk-container-id-3 div.sk-parallel {display: flex;align-items: stretch;justify-content: center;background-color: white;position: relative;}#sk-container-id-3 div.sk-item::before, #sk-container-id-3 div.sk-parallel-item::before {content: \"\";position: absolute;border-left: 1px solid gray;box-sizing: border-box;top: 0;bottom: 0;left: 50%;z-index: -1;}#sk-container-id-3 div.sk-parallel-item {display: flex;flex-direction: column;z-index: 1;position: relative;background-color: white;}#sk-container-id-3 div.sk-parallel-item:first-child::after {align-self: flex-end;width: 50%;}#sk-container-id-3 div.sk-parallel-item:last-child::after {align-self: flex-start;width: 50%;}#sk-container-id-3 div.sk-parallel-item:only-child::after {width: 0;}#sk-container-id-3 div.sk-dashed-wrapped {border: 1px dashed gray;margin: 0 0.4em 0.5em 0.4em;box-sizing: border-box;padding-bottom: 0.4em;background-color: white;}#sk-container-id-3 div.sk-label label {font-family: monospace;font-weight: bold;display: inline-block;line-height: 1.2em;}#sk-container-id-3 div.sk-label-container {text-align: center;}#sk-container-id-3 div.sk-container {/* jupyter's `normalize.less` sets `[hidden] { display: none; }` but bootstrap.min.css set `[hidden] { display: none !important; }` so we also need the `!important` here to be able to override the default hidden behavior on the sphinx rendered scikit-learn.org. See: https://github.com/scikit-learn/scikit-learn/issues/21755 */display: inline-block !important;position: relative;}#sk-container-id-3 div.sk-text-repr-fallback {display: none;}</style><div id=\"sk-container-id-3\" class=\"sk-top-container\"><div class=\"sk-text-repr-fallback\"><pre>DecisionTreeClassifier()</pre><b>In a Jupyter environment, please rerun this cell to show the HTML representation or trust the notebook. <br />On GitHub, the HTML representation is unable to render, please try loading this page with nbviewer.org.</b></div><div class=\"sk-container\" hidden><div class=\"sk-item\"><div class=\"sk-estimator sk-toggleable\"><input class=\"sk-toggleable__control sk-hidden--visually\" id=\"sk-estimator-id-3\" type=\"checkbox\" checked><label for=\"sk-estimator-id-3\" class=\"sk-toggleable__label sk-toggleable__label-arrow\">DecisionTreeClassifier</label><div class=\"sk-toggleable__content\"><pre>DecisionTreeClassifier()</pre></div></div></div></div></div>"
      ],
      "text/plain": [
       "DecisionTreeClassifier()"
      ]
     },
     "execution_count": 431,
     "metadata": {},
     "output_type": "execute_result"
    }
   ],
   "source": [
    "dt.fit(X_train_scaled,y_train)"
   ]
  },
  {
   "cell_type": "code",
   "execution_count": 433,
   "id": "006bc24b",
   "metadata": {},
   "outputs": [],
   "source": [
    "y_pred_train=dt.predict(X_train_scaled)"
   ]
  },
  {
   "cell_type": "code",
   "execution_count": 434,
   "id": "bd8a6fa8",
   "metadata": {},
   "outputs": [],
   "source": [
    "y_pred_test=dt.predict(X_test_scaled)"
   ]
  },
  {
   "cell_type": "code",
   "execution_count": 435,
   "id": "607c5d15",
   "metadata": {},
   "outputs": [
    {
     "name": "stdout",
     "output_type": "stream",
     "text": [
      "Training Accuracy:  0.9999717370414335\n"
     ]
    }
   ],
   "source": [
    "print('Training Accuracy: ',accuracy_score(y_train,y_pred_train))"
   ]
  },
  {
   "cell_type": "code",
   "execution_count": 437,
   "id": "a8462ae2",
   "metadata": {},
   "outputs": [],
   "source": [
    "submit_dt=pd.DataFrame({'case_id':df_test['case_id'],'Stay':y_pred_test})"
   ]
  },
  {
   "cell_type": "code",
   "execution_count": 438,
   "id": "c7193ead",
   "metadata": {},
   "outputs": [],
   "source": [
    "submit_dt['Stay']=submit_dt['Stay'].apply(segment)"
   ]
  },
  {
   "cell_type": "code",
   "execution_count": 439,
   "id": "7e9e356b",
   "metadata": {},
   "outputs": [],
   "source": [
    "submit_dt.to_csv('healthcare_analytics.submit_dt.csv',index=False)"
   ]
  },
  {
   "cell_type": "markdown",
   "id": "017a7396",
   "metadata": {},
   "source": [
    "3.Random Forest"
   ]
  },
  {
   "cell_type": "code",
   "execution_count": 440,
   "id": "53769773",
   "metadata": {},
   "outputs": [],
   "source": [
    "rf=RandomForestClassifier()"
   ]
  },
  {
   "cell_type": "code",
   "execution_count": 441,
   "id": "8c466de4",
   "metadata": {},
   "outputs": [
    {
     "data": {
      "text/html": [
       "<style>#sk-container-id-4 {color: black;background-color: white;}#sk-container-id-4 pre{padding: 0;}#sk-container-id-4 div.sk-toggleable {background-color: white;}#sk-container-id-4 label.sk-toggleable__label {cursor: pointer;display: block;width: 100%;margin-bottom: 0;padding: 0.3em;box-sizing: border-box;text-align: center;}#sk-container-id-4 label.sk-toggleable__label-arrow:before {content: \"▸\";float: left;margin-right: 0.25em;color: #696969;}#sk-container-id-4 label.sk-toggleable__label-arrow:hover:before {color: black;}#sk-container-id-4 div.sk-estimator:hover label.sk-toggleable__label-arrow:before {color: black;}#sk-container-id-4 div.sk-toggleable__content {max-height: 0;max-width: 0;overflow: hidden;text-align: left;background-color: #f0f8ff;}#sk-container-id-4 div.sk-toggleable__content pre {margin: 0.2em;color: black;border-radius: 0.25em;background-color: #f0f8ff;}#sk-container-id-4 input.sk-toggleable__control:checked~div.sk-toggleable__content {max-height: 200px;max-width: 100%;overflow: auto;}#sk-container-id-4 input.sk-toggleable__control:checked~label.sk-toggleable__label-arrow:before {content: \"▾\";}#sk-container-id-4 div.sk-estimator input.sk-toggleable__control:checked~label.sk-toggleable__label {background-color: #d4ebff;}#sk-container-id-4 div.sk-label input.sk-toggleable__control:checked~label.sk-toggleable__label {background-color: #d4ebff;}#sk-container-id-4 input.sk-hidden--visually {border: 0;clip: rect(1px 1px 1px 1px);clip: rect(1px, 1px, 1px, 1px);height: 1px;margin: -1px;overflow: hidden;padding: 0;position: absolute;width: 1px;}#sk-container-id-4 div.sk-estimator {font-family: monospace;background-color: #f0f8ff;border: 1px dotted black;border-radius: 0.25em;box-sizing: border-box;margin-bottom: 0.5em;}#sk-container-id-4 div.sk-estimator:hover {background-color: #d4ebff;}#sk-container-id-4 div.sk-parallel-item::after {content: \"\";width: 100%;border-bottom: 1px solid gray;flex-grow: 1;}#sk-container-id-4 div.sk-label:hover label.sk-toggleable__label {background-color: #d4ebff;}#sk-container-id-4 div.sk-serial::before {content: \"\";position: absolute;border-left: 1px solid gray;box-sizing: border-box;top: 0;bottom: 0;left: 50%;z-index: 0;}#sk-container-id-4 div.sk-serial {display: flex;flex-direction: column;align-items: center;background-color: white;padding-right: 0.2em;padding-left: 0.2em;position: relative;}#sk-container-id-4 div.sk-item {position: relative;z-index: 1;}#sk-container-id-4 div.sk-parallel {display: flex;align-items: stretch;justify-content: center;background-color: white;position: relative;}#sk-container-id-4 div.sk-item::before, #sk-container-id-4 div.sk-parallel-item::before {content: \"\";position: absolute;border-left: 1px solid gray;box-sizing: border-box;top: 0;bottom: 0;left: 50%;z-index: -1;}#sk-container-id-4 div.sk-parallel-item {display: flex;flex-direction: column;z-index: 1;position: relative;background-color: white;}#sk-container-id-4 div.sk-parallel-item:first-child::after {align-self: flex-end;width: 50%;}#sk-container-id-4 div.sk-parallel-item:last-child::after {align-self: flex-start;width: 50%;}#sk-container-id-4 div.sk-parallel-item:only-child::after {width: 0;}#sk-container-id-4 div.sk-dashed-wrapped {border: 1px dashed gray;margin: 0 0.4em 0.5em 0.4em;box-sizing: border-box;padding-bottom: 0.4em;background-color: white;}#sk-container-id-4 div.sk-label label {font-family: monospace;font-weight: bold;display: inline-block;line-height: 1.2em;}#sk-container-id-4 div.sk-label-container {text-align: center;}#sk-container-id-4 div.sk-container {/* jupyter's `normalize.less` sets `[hidden] { display: none; }` but bootstrap.min.css set `[hidden] { display: none !important; }` so we also need the `!important` here to be able to override the default hidden behavior on the sphinx rendered scikit-learn.org. See: https://github.com/scikit-learn/scikit-learn/issues/21755 */display: inline-block !important;position: relative;}#sk-container-id-4 div.sk-text-repr-fallback {display: none;}</style><div id=\"sk-container-id-4\" class=\"sk-top-container\"><div class=\"sk-text-repr-fallback\"><pre>RandomForestClassifier()</pre><b>In a Jupyter environment, please rerun this cell to show the HTML representation or trust the notebook. <br />On GitHub, the HTML representation is unable to render, please try loading this page with nbviewer.org.</b></div><div class=\"sk-container\" hidden><div class=\"sk-item\"><div class=\"sk-estimator sk-toggleable\"><input class=\"sk-toggleable__control sk-hidden--visually\" id=\"sk-estimator-id-4\" type=\"checkbox\" checked><label for=\"sk-estimator-id-4\" class=\"sk-toggleable__label sk-toggleable__label-arrow\">RandomForestClassifier</label><div class=\"sk-toggleable__content\"><pre>RandomForestClassifier()</pre></div></div></div></div></div>"
      ],
      "text/plain": [
       "RandomForestClassifier()"
      ]
     },
     "execution_count": 441,
     "metadata": {},
     "output_type": "execute_result"
    }
   ],
   "source": [
    "rf.fit(X_train_scaled,y_train)"
   ]
  },
  {
   "cell_type": "code",
   "execution_count": 442,
   "id": "056c437d",
   "metadata": {},
   "outputs": [],
   "source": [
    "y_pred_train=rf.predict(X_train_scaled)"
   ]
  },
  {
   "cell_type": "code",
   "execution_count": 443,
   "id": "53a1d888",
   "metadata": {},
   "outputs": [],
   "source": [
    "y_pred_test=rf.predict(X_test_scaled)"
   ]
  },
  {
   "cell_type": "code",
   "execution_count": 444,
   "id": "4b0c26b6",
   "metadata": {},
   "outputs": [
    {
     "name": "stdout",
     "output_type": "stream",
     "text": [
      "Training Accuracy:  0.9999717370414335\n"
     ]
    }
   ],
   "source": [
    "print('Training Accuracy: ',accuracy_score(y_train,y_pred_train))"
   ]
  },
  {
   "cell_type": "code",
   "execution_count": 445,
   "id": "6762c6ee",
   "metadata": {},
   "outputs": [],
   "source": [
    "submit_rf=pd.DataFrame({'case_id':df_test['case_id'],'Stay':y_pred_test})"
   ]
  },
  {
   "cell_type": "code",
   "execution_count": 446,
   "id": "d1f1e9dd",
   "metadata": {},
   "outputs": [],
   "source": [
    "submit_rf['Stay']=submit_rf['Stay'].apply(segment)"
   ]
  },
  {
   "cell_type": "code",
   "execution_count": 447,
   "id": "90aa15c6",
   "metadata": {},
   "outputs": [],
   "source": [
    "submit_rf.to_csv('healthcare_analytics.submit_rf.csv',index=False)"
   ]
  },
  {
   "cell_type": "code",
   "execution_count": null,
   "id": "3a6b6f89",
   "metadata": {},
   "outputs": [],
   "source": []
  },
  {
   "cell_type": "markdown",
   "id": "3dcac98e",
   "metadata": {},
   "source": [
    "4.Naive Bayes"
   ]
  },
  {
   "cell_type": "code",
   "execution_count": 449,
   "id": "55879940",
   "metadata": {},
   "outputs": [],
   "source": [
    "nb=GaussianNB()"
   ]
  },
  {
   "cell_type": "code",
   "execution_count": 450,
   "id": "d9d88812",
   "metadata": {},
   "outputs": [
    {
     "data": {
      "text/html": [
       "<style>#sk-container-id-5 {color: black;background-color: white;}#sk-container-id-5 pre{padding: 0;}#sk-container-id-5 div.sk-toggleable {background-color: white;}#sk-container-id-5 label.sk-toggleable__label {cursor: pointer;display: block;width: 100%;margin-bottom: 0;padding: 0.3em;box-sizing: border-box;text-align: center;}#sk-container-id-5 label.sk-toggleable__label-arrow:before {content: \"▸\";float: left;margin-right: 0.25em;color: #696969;}#sk-container-id-5 label.sk-toggleable__label-arrow:hover:before {color: black;}#sk-container-id-5 div.sk-estimator:hover label.sk-toggleable__label-arrow:before {color: black;}#sk-container-id-5 div.sk-toggleable__content {max-height: 0;max-width: 0;overflow: hidden;text-align: left;background-color: #f0f8ff;}#sk-container-id-5 div.sk-toggleable__content pre {margin: 0.2em;color: black;border-radius: 0.25em;background-color: #f0f8ff;}#sk-container-id-5 input.sk-toggleable__control:checked~div.sk-toggleable__content {max-height: 200px;max-width: 100%;overflow: auto;}#sk-container-id-5 input.sk-toggleable__control:checked~label.sk-toggleable__label-arrow:before {content: \"▾\";}#sk-container-id-5 div.sk-estimator input.sk-toggleable__control:checked~label.sk-toggleable__label {background-color: #d4ebff;}#sk-container-id-5 div.sk-label input.sk-toggleable__control:checked~label.sk-toggleable__label {background-color: #d4ebff;}#sk-container-id-5 input.sk-hidden--visually {border: 0;clip: rect(1px 1px 1px 1px);clip: rect(1px, 1px, 1px, 1px);height: 1px;margin: -1px;overflow: hidden;padding: 0;position: absolute;width: 1px;}#sk-container-id-5 div.sk-estimator {font-family: monospace;background-color: #f0f8ff;border: 1px dotted black;border-radius: 0.25em;box-sizing: border-box;margin-bottom: 0.5em;}#sk-container-id-5 div.sk-estimator:hover {background-color: #d4ebff;}#sk-container-id-5 div.sk-parallel-item::after {content: \"\";width: 100%;border-bottom: 1px solid gray;flex-grow: 1;}#sk-container-id-5 div.sk-label:hover label.sk-toggleable__label {background-color: #d4ebff;}#sk-container-id-5 div.sk-serial::before {content: \"\";position: absolute;border-left: 1px solid gray;box-sizing: border-box;top: 0;bottom: 0;left: 50%;z-index: 0;}#sk-container-id-5 div.sk-serial {display: flex;flex-direction: column;align-items: center;background-color: white;padding-right: 0.2em;padding-left: 0.2em;position: relative;}#sk-container-id-5 div.sk-item {position: relative;z-index: 1;}#sk-container-id-5 div.sk-parallel {display: flex;align-items: stretch;justify-content: center;background-color: white;position: relative;}#sk-container-id-5 div.sk-item::before, #sk-container-id-5 div.sk-parallel-item::before {content: \"\";position: absolute;border-left: 1px solid gray;box-sizing: border-box;top: 0;bottom: 0;left: 50%;z-index: -1;}#sk-container-id-5 div.sk-parallel-item {display: flex;flex-direction: column;z-index: 1;position: relative;background-color: white;}#sk-container-id-5 div.sk-parallel-item:first-child::after {align-self: flex-end;width: 50%;}#sk-container-id-5 div.sk-parallel-item:last-child::after {align-self: flex-start;width: 50%;}#sk-container-id-5 div.sk-parallel-item:only-child::after {width: 0;}#sk-container-id-5 div.sk-dashed-wrapped {border: 1px dashed gray;margin: 0 0.4em 0.5em 0.4em;box-sizing: border-box;padding-bottom: 0.4em;background-color: white;}#sk-container-id-5 div.sk-label label {font-family: monospace;font-weight: bold;display: inline-block;line-height: 1.2em;}#sk-container-id-5 div.sk-label-container {text-align: center;}#sk-container-id-5 div.sk-container {/* jupyter's `normalize.less` sets `[hidden] { display: none; }` but bootstrap.min.css set `[hidden] { display: none !important; }` so we also need the `!important` here to be able to override the default hidden behavior on the sphinx rendered scikit-learn.org. See: https://github.com/scikit-learn/scikit-learn/issues/21755 */display: inline-block !important;position: relative;}#sk-container-id-5 div.sk-text-repr-fallback {display: none;}</style><div id=\"sk-container-id-5\" class=\"sk-top-container\"><div class=\"sk-text-repr-fallback\"><pre>GaussianNB()</pre><b>In a Jupyter environment, please rerun this cell to show the HTML representation or trust the notebook. <br />On GitHub, the HTML representation is unable to render, please try loading this page with nbviewer.org.</b></div><div class=\"sk-container\" hidden><div class=\"sk-item\"><div class=\"sk-estimator sk-toggleable\"><input class=\"sk-toggleable__control sk-hidden--visually\" id=\"sk-estimator-id-5\" type=\"checkbox\" checked><label for=\"sk-estimator-id-5\" class=\"sk-toggleable__label sk-toggleable__label-arrow\">GaussianNB</label><div class=\"sk-toggleable__content\"><pre>GaussianNB()</pre></div></div></div></div></div>"
      ],
      "text/plain": [
       "GaussianNB()"
      ]
     },
     "execution_count": 450,
     "metadata": {},
     "output_type": "execute_result"
    }
   ],
   "source": [
    "nb.fit(X_train_scaled,y_train)"
   ]
  },
  {
   "cell_type": "code",
   "execution_count": 451,
   "id": "31749b35",
   "metadata": {},
   "outputs": [],
   "source": [
    "y_pred_train=nb.predict(X_train_scaled)"
   ]
  },
  {
   "cell_type": "code",
   "execution_count": 452,
   "id": "fe1498bb",
   "metadata": {},
   "outputs": [],
   "source": [
    "y_pred_test=nb.predict(X_test_scaled)"
   ]
  },
  {
   "cell_type": "code",
   "execution_count": 453,
   "id": "1620080e",
   "metadata": {},
   "outputs": [
    {
     "name": "stdout",
     "output_type": "stream",
     "text": [
      "Training Accuracy:  0.10250661039197584\n"
     ]
    }
   ],
   "source": [
    "print('Training Accuracy: ',accuracy_score(y_train,y_pred_train))"
   ]
  },
  {
   "cell_type": "code",
   "execution_count": 454,
   "id": "43d94257",
   "metadata": {},
   "outputs": [],
   "source": [
    "submit_nb=pd.DataFrame({'case_id':df_test['case_id'],'Stay':y_pred_test})"
   ]
  },
  {
   "cell_type": "code",
   "execution_count": 455,
   "id": "9ecebae6",
   "metadata": {},
   "outputs": [],
   "source": [
    "submit_nb['Stay']=submit_nb['Stay'].apply(segment)"
   ]
  },
  {
   "cell_type": "code",
   "execution_count": 456,
   "id": "a6d3b35c",
   "metadata": {},
   "outputs": [],
   "source": [
    "submit_nb.to_csv('healthcare_analytics.submit_nb.csv',index=False)"
   ]
  },
  {
   "cell_type": "code",
   "execution_count": 457,
   "id": "90ba361a",
   "metadata": {},
   "outputs": [],
   "source": [
    "#Neural Network"
   ]
  },
  {
   "cell_type": "code",
   "execution_count": 470,
   "id": "5f2d0cc6",
   "metadata": {},
   "outputs": [],
   "source": [
    "y_train_dummy=np_utils.to_categorical(y_train)"
   ]
  },
  {
   "cell_type": "code",
   "execution_count": 471,
   "id": "b2931ca5",
   "metadata": {},
   "outputs": [],
   "source": [
    "classifier=Sequential()"
   ]
  },
  {
   "cell_type": "code",
   "execution_count": 472,
   "id": "fe72278e",
   "metadata": {},
   "outputs": [
    {
     "data": {
      "text/plain": [
       "((318438, 43), (318438, 11))"
      ]
     },
     "execution_count": 472,
     "metadata": {},
     "output_type": "execute_result"
    }
   ],
   "source": [
    "X_train.shape,y_train_dummy.shape"
   ]
  },
  {
   "cell_type": "code",
   "execution_count": 473,
   "id": "b50345d5",
   "metadata": {},
   "outputs": [],
   "source": [
    "classifier.add(Dense(128,kernel_initializer='uniform',activation='relu',input_dim=43))\n",
    "classifier.add(Dense(64,kernel_initializer='uniform',activation='relu'))\n",
    "classifier.add(Dense(11,kernel_initializer='uniform',activation='softmax'))"
   ]
  },
  {
   "cell_type": "code",
   "execution_count": 474,
   "id": "95e3fccf",
   "metadata": {},
   "outputs": [],
   "source": [
    "classifier.compile(optimizer='adam',loss='categorical_crossentropy',metrics=['accuracy'])"
   ]
  },
  {
   "cell_type": "code",
   "execution_count": 475,
   "id": "5649e5bc",
   "metadata": {},
   "outputs": [
    {
     "name": "stdout",
     "output_type": "stream",
     "text": [
      "Model: \"sequential_1\"\n",
      "_________________________________________________________________\n",
      " Layer (type)                Output Shape              Param #   \n",
      "=================================================================\n",
      " dense_3 (Dense)             (None, 128)               5632      \n",
      "                                                                 \n",
      " dense_4 (Dense)             (None, 64)                8256      \n",
      "                                                                 \n",
      " dense_5 (Dense)             (None, 11)                715       \n",
      "                                                                 \n",
      "=================================================================\n",
      "Total params: 14,603\n",
      "Trainable params: 14,603\n",
      "Non-trainable params: 0\n",
      "_________________________________________________________________\n"
     ]
    }
   ],
   "source": [
    "classifier.summary()"
   ]
  },
  {
   "cell_type": "code",
   "execution_count": null,
   "id": "88d9ffd9",
   "metadata": {},
   "outputs": [
    {
     "name": "stdout",
     "output_type": "stream",
     "text": [
      "Epoch 1/50\n",
      "19903/19903 [==============================] - 41s 2ms/step - loss: 1.5711 - accuracy: 0.3977\n",
      "Epoch 2/50\n",
      "19903/19903 [==============================] - 50s 3ms/step - loss: 1.5439 - accuracy: 0.4072\n",
      "Epoch 3/50\n",
      "19903/19903 [==============================] - 51s 3ms/step - loss: 1.5364 - accuracy: 0.4105\n",
      "Epoch 4/50\n",
      "19903/19903 [==============================] - 51s 3ms/step - loss: 1.5313 - accuracy: 0.4129\n",
      "Epoch 5/50\n",
      "19903/19903 [==============================] - 50s 3ms/step - loss: 1.5279 - accuracy: 0.4143\n",
      "Epoch 6/50\n",
      "19903/19903 [==============================] - 51s 3ms/step - loss: 1.5256 - accuracy: 0.4146\n",
      "Epoch 7/50\n",
      "19903/19903 [==============================] - 50s 3ms/step - loss: 1.5227 - accuracy: 0.4157\n",
      "Epoch 8/50\n",
      "19903/19903 [==============================] - 52s 3ms/step - loss: 1.5204 - accuracy: 0.4166\n",
      "Epoch 9/50\n",
      "19903/19903 [==============================] - 51s 3ms/step - loss: 1.5187 - accuracy: 0.4172\n",
      "Epoch 10/50\n",
      "19903/19903 [==============================] - 51s 3ms/step - loss: 1.5175 - accuracy: 0.4170\n",
      "Epoch 11/50\n",
      "19903/19903 [==============================] - 50s 3ms/step - loss: 1.5162 - accuracy: 0.4183\n",
      "Epoch 12/50\n",
      "19903/19903 [==============================] - 51s 3ms/step - loss: 1.5152 - accuracy: 0.4187\n",
      "Epoch 13/50\n",
      "19903/19903 [==============================] - 50s 3ms/step - loss: 1.5145 - accuracy: 0.4193\n",
      "Epoch 14/50\n",
      "19903/19903 [==============================] - 51s 3ms/step - loss: 1.5137 - accuracy: 0.4190\n",
      "Epoch 15/50\n",
      "19903/19903 [==============================] - 52s 3ms/step - loss: 1.5129 - accuracy: 0.4200\n",
      "Epoch 16/50\n",
      "19903/19903 [==============================] - 52s 3ms/step - loss: 1.5121 - accuracy: 0.4202\n",
      "Epoch 17/50\n",
      "19903/19903 [==============================] - 53s 3ms/step - loss: 1.5125 - accuracy: 0.4200\n",
      "Epoch 18/50\n",
      "19903/19903 [==============================] - 54s 3ms/step - loss: 1.5109 - accuracy: 0.4204\n",
      "Epoch 19/50\n",
      "19903/19903 [==============================] - 53s 3ms/step - loss: 1.5105 - accuracy: 0.4200\n",
      "Epoch 20/50\n",
      "19903/19903 [==============================] - 53s 3ms/step - loss: 1.5114 - accuracy: 0.4201\n",
      "Epoch 21/50\n",
      "19903/19903 [==============================] - 54s 3ms/step - loss: 1.5094 - accuracy: 0.4203\n",
      "Epoch 22/50\n",
      "19903/19903 [==============================] - 53s 3ms/step - loss: 1.5094 - accuracy: 0.4201\n",
      "Epoch 23/50\n",
      "19903/19903 [==============================] - 54s 3ms/step - loss: 1.5086 - accuracy: 0.4206\n",
      "Epoch 24/50\n",
      "19903/19903 [==============================] - 55s 3ms/step - loss: 1.5086 - accuracy: 0.4204\n",
      "Epoch 25/50\n",
      "11896/19903 [================>.............] - ETA: 22s - loss: 1.5057 - accuracy: 0.4215"
     ]
    }
   ],
   "source": [
    "classifier.fit(X_train_scaled,y_train_dummy,batch_size=16,epochs=50)"
   ]
  },
  {
   "cell_type": "code",
   "execution_count": null,
   "id": "10ff3a86",
   "metadata": {},
   "outputs": [],
   "source": [
    "y_pred=classifier.predict(X_test)"
   ]
  }
 ],
 "metadata": {
  "kernelspec": {
   "display_name": "Python 3 (ipykernel)",
   "language": "python",
   "name": "python3"
  },
  "language_info": {
   "codemirror_mode": {
    "name": "ipython",
    "version": 3
   },
   "file_extension": ".py",
   "mimetype": "text/x-python",
   "name": "python",
   "nbconvert_exporter": "python",
   "pygments_lexer": "ipython3",
   "version": "3.9.12"
  }
 },
 "nbformat": 4,
 "nbformat_minor": 5
}
